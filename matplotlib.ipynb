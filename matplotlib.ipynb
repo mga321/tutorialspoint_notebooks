{
 "cells": [
  {
   "cell_type": "markdown",
   "metadata": {},
   "source": [
    "# Matplotlib Tutorial"
   ]
  },
  {
   "cell_type": "markdown",
   "metadata": {},
   "source": [
    "## Import Requirements"
   ]
  },
  {
   "cell_type": "code",
   "execution_count": 1,
   "metadata": {},
   "outputs": [],
   "source": [
    "import numpy as np\n",
    "import pandas as pd\n",
    "import matplotlib.pyplot as plt\n",
    "%matplotlib inline"
   ]
  },
  {
   "cell_type": "markdown",
   "metadata": {},
   "source": [
    "### Pyplot API"
   ]
  },
  {
   "cell_type": "markdown",
   "metadata": {},
   "source": [
    "Types of plots:\n",
    "- bar = bar plot\n",
    "- barh = horizontal bar plot\n",
    "- boxplot = box and whisker plot\n",
    "- hist = histogram\n",
    "- hist2d = 2D histogram\n",
    "- pie = pie chart\n",
    "- plot = plot lines and/or markers to the axes\n",
    "- scatter = scatter plot\n",
    "- stackplot = stacked area plot\n",
    "- step = step plot\n",
    "- quiver = 2D field of vectors\n",
    "\n",
    "Image functions:\n",
    "- imread = read an image from a file into an array\n",
    "- imsave = save an array as an image file\n",
    "- imshow = display an image on the axes\n",
    "\n",
    "Axis functions:\n",
    "- axes = add axes to the figure\n",
    "- text = add text to the axes\n",
    "- title = ste a title for the current axes\n",
    "- xlabel = set a label for the x axis\n",
    "- xlim = set a limit for the x axis\n",
    "- xscale = set the scaling of the x axis\n",
    "- xticks = set tick marks for the x axis\n",
    "- ylabel = same as xlabel, but for y\n",
    "- ylim = same as xlim, but for y\n",
    "- yscale = same as xscale, but for y\n",
    "- yticks = same as xticks, but for y\n",
    "\n",
    "Figure functions:\n",
    "- figtext = add text to a figure\n",
    "- figure = creates a new figure\n",
    "- show = display a figure\n",
    "- savefig = save the current figure\n",
    "- close = close a figure window"
   ]
  },
  {
   "cell_type": "code",
   "execution_count": null,
   "metadata": {},
   "outputs": [],
   "source": []
  }
 ],
 "metadata": {
  "kernelspec": {
   "display_name": "Python 3",
   "language": "python",
   "name": "python3"
  },
  "language_info": {
   "codemirror_mode": {
    "name": "ipython",
    "version": 3
   },
   "file_extension": ".py",
   "mimetype": "text/x-python",
   "name": "python",
   "nbconvert_exporter": "python",
   "pygments_lexer": "ipython3",
   "version": "3.8.2"
  }
 },
 "nbformat": 4,
 "nbformat_minor": 4
}
